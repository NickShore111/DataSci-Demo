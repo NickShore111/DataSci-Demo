{
 "cells": [
  {
   "cell_type": "code",
   "execution_count": 11,
   "metadata": {},
   "outputs": [],
   "source": [
    "import pandas as pd\n",
    "import numpy as np\n",
    "import matplotlib.pyplot as plt"
   ]
  },
  {
   "cell_type": "markdown",
   "metadata": {},
   "source": [
    "## What This Is\n",
    "### A cursory examination of the United States based on data from the Worldbank of:\n",
    "1. CO2 Emissions by sector \n",
    "2. Renewable energy production"
   ]
  },
  {
   "cell_type": "markdown",
   "metadata": {},
   "source": [
    "#### _Data Source: https://www.kaggle.com/worldbank/world-development-indicators_\n"
   ]
  },
  {
   "cell_type": "markdown",
   "metadata": {},
   "source": [
    "## Establish data boundaries"
   ]
  },
  {
   "cell_type": "code",
   "execution_count": 12,
   "metadata": {},
   "outputs": [
    {
     "data": {
      "text/plain": [
       "(5656458, 6)"
      ]
     },
     "execution_count": 12,
     "metadata": {},
     "output_type": "execute_result"
    }
   ],
   "source": [
    "file = '../Jupyter Notebook/Week5-Visualization/Indicators.csv'\n",
    "data = pd.read_csv(file)\n",
    "data.shape"
   ]
  },
  {
   "cell_type": "code",
   "execution_count": 13,
   "metadata": {},
   "outputs": [
    {
     "data": {
      "text/html": [
       "<div>\n",
       "<style scoped>\n",
       "    .dataframe tbody tr th:only-of-type {\n",
       "        vertical-align: middle;\n",
       "    }\n",
       "\n",
       "    .dataframe tbody tr th {\n",
       "        vertical-align: top;\n",
       "    }\n",
       "\n",
       "    .dataframe thead th {\n",
       "        text-align: right;\n",
       "    }\n",
       "</style>\n",
       "<table border=\"1\" class=\"dataframe\">\n",
       "  <thead>\n",
       "    <tr style=\"text-align: right;\">\n",
       "      <th></th>\n",
       "      <th>CountryName</th>\n",
       "      <th>CountryCode</th>\n",
       "      <th>IndicatorName</th>\n",
       "      <th>IndicatorCode</th>\n",
       "      <th>Year</th>\n",
       "      <th>Value</th>\n",
       "    </tr>\n",
       "  </thead>\n",
       "  <tbody>\n",
       "    <tr>\n",
       "      <th>0</th>\n",
       "      <td>Arab World</td>\n",
       "      <td>ARB</td>\n",
       "      <td>Adolescent fertility rate (births per 1,000 wo...</td>\n",
       "      <td>SP.ADO.TFRT</td>\n",
       "      <td>1960</td>\n",
       "      <td>1.335609e+02</td>\n",
       "    </tr>\n",
       "    <tr>\n",
       "      <th>1</th>\n",
       "      <td>Arab World</td>\n",
       "      <td>ARB</td>\n",
       "      <td>Age dependency ratio (% of working-age populat...</td>\n",
       "      <td>SP.POP.DPND</td>\n",
       "      <td>1960</td>\n",
       "      <td>8.779760e+01</td>\n",
       "    </tr>\n",
       "    <tr>\n",
       "      <th>2</th>\n",
       "      <td>Arab World</td>\n",
       "      <td>ARB</td>\n",
       "      <td>Age dependency ratio, old (% of working-age po...</td>\n",
       "      <td>SP.POP.DPND.OL</td>\n",
       "      <td>1960</td>\n",
       "      <td>6.634579e+00</td>\n",
       "    </tr>\n",
       "    <tr>\n",
       "      <th>3</th>\n",
       "      <td>Arab World</td>\n",
       "      <td>ARB</td>\n",
       "      <td>Age dependency ratio, young (% of working-age ...</td>\n",
       "      <td>SP.POP.DPND.YG</td>\n",
       "      <td>1960</td>\n",
       "      <td>8.102333e+01</td>\n",
       "    </tr>\n",
       "    <tr>\n",
       "      <th>4</th>\n",
       "      <td>Arab World</td>\n",
       "      <td>ARB</td>\n",
       "      <td>Arms exports (SIPRI trend indicator values)</td>\n",
       "      <td>MS.MIL.XPRT.KD</td>\n",
       "      <td>1960</td>\n",
       "      <td>3.000000e+06</td>\n",
       "    </tr>\n",
       "  </tbody>\n",
       "</table>\n",
       "</div>"
      ],
      "text/plain": [
       "  CountryName CountryCode                                      IndicatorName  \\\n",
       "0  Arab World         ARB  Adolescent fertility rate (births per 1,000 wo...   \n",
       "1  Arab World         ARB  Age dependency ratio (% of working-age populat...   \n",
       "2  Arab World         ARB  Age dependency ratio, old (% of working-age po...   \n",
       "3  Arab World         ARB  Age dependency ratio, young (% of working-age ...   \n",
       "4  Arab World         ARB        Arms exports (SIPRI trend indicator values)   \n",
       "\n",
       "    IndicatorCode  Year         Value  \n",
       "0     SP.ADO.TFRT  1960  1.335609e+02  \n",
       "1     SP.POP.DPND  1960  8.779760e+01  \n",
       "2  SP.POP.DPND.OL  1960  6.634579e+00  \n",
       "3  SP.POP.DPND.YG  1960  8.102333e+01  \n",
       "4  MS.MIL.XPRT.KD  1960  3.000000e+06  "
      ]
     },
     "execution_count": 13,
     "metadata": {},
     "output_type": "execute_result"
    }
   ],
   "source": [
    "data.head()"
   ]
  },
  {
   "cell_type": "code",
   "execution_count": 14,
   "metadata": {},
   "outputs": [
    {
     "name": "stdout",
     "output_type": "stream",
     "text": [
      "1960  to  2015\n"
     ]
    }
   ],
   "source": [
    "years = data['Year'].unique().tolist()\n",
    "print(min(years),\" to \",max(years))"
   ]
  },
  {
   "cell_type": "markdown",
   "metadata": {},
   "source": [
    "### Over 1000 unique indicators"
   ]
  },
  {
   "cell_type": "code",
   "execution_count": 15,
   "metadata": {},
   "outputs": [
    {
     "data": {
      "text/plain": [
       "1344"
      ]
     },
     "execution_count": 15,
     "metadata": {},
     "output_type": "execute_result"
    }
   ],
   "source": [
    "indicators = data['IndicatorName'].unique().tolist()\n",
    "len(indicators)"
   ]
  },
  {
   "cell_type": "markdown",
   "metadata": {},
   "source": [
    "## Output a .txt file to review a list of indicators available"
   ]
  },
  {
   "cell_type": "code",
   "execution_count": 16,
   "metadata": {},
   "outputs": [],
   "source": [
    "with open('indicators.txt', 'w') as file:\n",
    "    for row in indicators:\n",
    "        file.write(str(row)+'\\n')"
   ]
  },
  {
   "cell_type": "markdown",
   "metadata": {},
   "source": [
    "# Create masks"
   ]
  },
  {
   "cell_type": "code",
   "execution_count": 17,
   "metadata": {},
   "outputs": [],
   "source": [
    "# CO2 emission sources\n",
    "electricity = data['IndicatorName'].str.contains('CO2 emissions from electricity and heat')\n",
    "manufacturing = data['IndicatorName'].str.contains('CO2 emissions from manufacturing industries')\n",
    "other = data['IndicatorName'].str.contains('CO2 emissions from other sectors')\n",
    "residential = data['IndicatorName'].str.contains('CO2 emissions from residential')\n",
    "solid_fuel = data['IndicatorName'].str.contains('CO2 emissions from solid fuel')\n",
    "transport = data['IndicatorName'].str.contains('CO2 emissions from transport')"
   ]
  },
  {
   "cell_type": "code",
   "execution_count": 18,
   "metadata": {},
   "outputs": [
    {
     "data": {
      "text/plain": [
       "True"
      ]
     },
     "execution_count": 18,
     "metadata": {},
     "output_type": "execute_result"
    }
   ],
   "source": [
    "# Mask of USA data\n",
    "usa_data = data['CountryCode'].str.contains('USA')\n",
    "usa_data.any()"
   ]
  },
  {
   "cell_type": "markdown",
   "metadata": {},
   "source": [
    "## Selecting the data from masks"
   ]
  },
  {
   "cell_type": "code",
   "execution_count": 19,
   "metadata": {},
   "outputs": [],
   "source": [
    "stage_electricity = data[usa_data & electricity]\n",
    "stage_manufacturing = data[usa_data & manufacturing]\n",
    "stage_other = data[usa_data & other]\n",
    "stage_residential = data[usa_data & residential]\n",
    "stage_solid_fuel =data[usa_data & solid_fuel]\n",
    "stage_transport = data[usa_data & transport]"
   ]
  },
  {
   "cell_type": "markdown",
   "metadata": {},
   "source": [
    "## Creating our line graph"
   ]
  },
  {
   "cell_type": "code",
   "execution_count": 20,
   "metadata": {},
   "outputs": [
    {
     "data": {
      "text/plain": [
       "<matplotlib.legend.Legend at 0x16d2a93a940>"
      ]
     },
     "execution_count": 20,
     "metadata": {},
     "output_type": "execute_result"
    },
    {
     "data": {
      "image/png": "[encoded data removed]",
      "text/plain": [
       "<Figure size 432x288 with 1 Axes>"
      ]
     },
     "metadata": {
      "needs_background": "light"
     },
     "output_type": "display_data"
    }
   ],
   "source": [
    "fig, ax = plt.subplots()\n",
    "\n",
    "electricity, = ax.plot(stage_electricity['Year'].values, stage_electricity['Value'].values, label = 'Electricity and heat\\n production, total')\n",
    "manafacturing, = ax.plot(stage_manufacturing['Year'].values, stage_manufacturing['Value'].values, label = 'Manufacturing industries\\n and construction')\n",
    "residential, = ax.plot(stage_residential['Year'].values, stage_residential['Value'].values,  label = 'Residential buildings and\\n commercial and public services')\n",
    "transport, = ax.plot(stage_transport['Year'].values, stage_transport['Value'].values,  label = 'Transport')\n",
    "other, = ax.plot(stage_other['Year'].values, stage_other['Value'].values,  label = 'Other sectors, excluding residential buildings\\n and commercial and public services')\n",
    "\n",
    "plt.xlabel('Year')\n",
    "plt.ylabel('% of total fuel combustion')\n",
    "plt.title('USA CO2 Emissions')\n",
    "ax.legend(bbox_to_anchor=(1.05,1), loc='upper left', borderaxespad=0)\n"
   ]
  },
  {
   "cell_type": "markdown",
   "metadata": {},
   "source": [
    "## Looking at renewable energy production in the US"
   ]
  },
  {
   "cell_type": "code",
   "execution_count": 21,
   "metadata": {},
   "outputs": [],
   "source": [
    "# Create a mask of countries who have data on Renewable energy production\n",
    "renewable_energy_mask = data['IndicatorName'].str.contains('Electricity production from renewable sources, excluding hydroelectric')"
   ]
  },
  {
   "cell_type": "code",
   "execution_count": 22,
   "metadata": {},
   "outputs": [],
   "source": [
    "# Build dataset\n",
    "renewable_data = data[renewable_energy_mask]"
   ]
  },
  {
   "cell_type": "code",
   "execution_count": 23,
   "metadata": {},
   "outputs": [],
   "source": [
    "# Get unique list of countries in dataset\n",
    "renewable_countries = renewable_data['CountryName'].unique().tolist()"
   ]
  },
  {
   "cell_type": "code",
   "execution_count": 24,
   "metadata": {},
   "outputs": [],
   "source": [
    "usa_data = data['CountryCode'].str.contains('USA')\n",
    "stage = data[usa_data & renewable_energy_mask]"
   ]
  },
  {
   "cell_type": "code",
   "execution_count": 25,
   "metadata": {},
   "outputs": [
    {
     "data": {
      "image/png": "[encoded data removed]",
      "text/plain": [
       "<Figure size 432x288 with 1 Axes>"
      ]
     },
     "metadata": {
      "needs_background": "light"
     },
     "output_type": "display_data"
    }
   ],
   "source": [
    "years = stage['Year'].values\n",
    "kWh = stage['Value'].values\n",
    "plt.xlabel('Year')\n",
    "plt.ylabel('kWh')\n",
    "plt.title('U.S. Electricity production from renewable sources,\\n excluding hydroelectric')\n",
    "plt.bar(years, kWh)\n",
    "plt.show()"
   ]
  },
  {
   "cell_type": "markdown",
   "metadata": {},
   "source": [
    "This information shows us the CO2 emissions per sector as a percentage of total fuel combustion for the USA from 1960 to 2016.\n",
    "\n",
    "The Transportation sector has seen a steady incline over the 40 year period of around 10%. \n",
    "\n",
    "We see a reduction in percentage as a function of total fuel combustion starting in the late 1960s from Manufacturing sources, \n",
    "as well as a gradual decline from Residential sources until they appear to both level out around 9%\n",
    "in the 2000s. \n",
    "\n",
    "This appears to coincide with the modern day environmental movement. Starting in the late 1960s, legislation aimed at improving \n",
    "environmental standards on a national level was first implemented and the creation of what would become the EPA were introduced.\n",
    "\n",
    "The Electricity and Heating industry, however, saw steady increases until the mid to late 1990s, where it plateaus. Possibly as\n",
    "a result of steady economic growth along with energy sector carvouts in legislation making allowances for that industry to continue\n",
    "with development using a business as usual scheme. It's plateau coincides with significant increases made in the renewable energy\n",
    "production sector which started at the turn of the century."
   ]
  },
  {
   "cell_type": "markdown",
   "metadata": {},
   "source": [
    "## Create a bar graph for Solid fuel emissions"
   ]
  },
  {
   "cell_type": "code",
   "execution_count": 26,
   "metadata": {},
   "outputs": [
    {
     "data": {
      "image/png": "[encoded data removed]",
      "text/plain": [
       "<Figure size 432x288 with 1 Axes>"
      ]
     },
     "metadata": {
      "needs_background": "light"
     },
     "output_type": "display_data"
    }
   ],
   "source": [
    "years = stage_solid_fuel['Year'].values\n",
    "kilotons = stage_solid_fuel['Value'].values\n",
    "\n",
    "plt.xlabel('Year')\n",
    "plt.ylabel('kiloton')\n",
    "plt.title('CO2 Emissions From Solid Fuel Consumption')\n",
    "plt.bar(years,kilotons)\n",
    "plt.show()"
   ]
  }
 ],
 "metadata": {
  "interpreter": {
   "hash": "d2282c6f5ddacff1393d8f6dc7eeeeb368bd6574d38c8c0740fe67e458487eeb"
  },
  "kernelspec": {
   "display_name": "Python 3.9.6 64-bit ('py3EdxDS': venv)",
   "language": "python",
   "name": "python3"
  },
  "language_info": {
   "codemirror_mode": {
    "name": "ipython",
    "version": 3
   },
   "file_extension": ".py",
   "mimetype": "text/x-python",
   "name": "python",
   "nbconvert_exporter": "python",
   "pygments_lexer": "ipython3",
   "version": "3.9.6"
  },
  "orig_nbformat": 4
 },
 "nbformat": 4,
 "nbformat_minor": 2
}
