{
 "cells": [
  {
   "cell_type": "markdown",
   "metadata": {},
   "source": [
    "# U.S. Electricity production and pricing"
   ]
  },
  {
   "cell_type": "code",
   "execution_count": 2,
   "metadata": {},
   "outputs": [],
   "source": [
    "import pandas as pd\n",
    "import numpy as np\n",
    "import matplotlib.pyplot as plt"
   ]
  },
  {
   "cell_type": "markdown",
   "metadata": {},
   "source": [
    "### _Data Source: https://www.kaggle.com/worldbank/world-development-indicators_"
   ]
  },
  {
   "cell_type": "code",
   "execution_count": 3,
   "metadata": {},
   "outputs": [],
   "source": [
    "data = pd.read_csv('../Jupyter Notebook/Week5-Visualization/Indicators.csv')\n"
   ]
  },
  {
   "cell_type": "code",
   "execution_count": 4,
   "metadata": {},
   "outputs": [],
   "source": [
    "# Create a mask of countries who have data on Renewable energy production\n",
    "renewable_energy_mask = data['IndicatorName'].str.contains('Electricity production from renewable sources, excluding hydroelectric')"
   ]
  },
  {
   "cell_type": "code",
   "execution_count": 5,
   "metadata": {},
   "outputs": [],
   "source": [
    "# Build dataset\n",
    "renewable_data = data[renewable_energy_mask]"
   ]
  },
  {
   "cell_type": "code",
   "execution_count": 6,
   "metadata": {},
   "outputs": [],
   "source": [
    "# Get unique list of countries in dataset\n",
    "renewable_countries = renewable_data['CountryName'].unique().tolist()"
   ]
  },
  {
   "cell_type": "code",
   "execution_count": 7,
   "metadata": {},
   "outputs": [
    {
     "name": "stdout",
     "output_type": "stream",
     "text": [
      "True\n",
      "True\n",
      "True\n"
     ]
    }
   ],
   "source": [
    "# Check if present: China, European Union, USA\n",
    "print('China' in renewable_countries)\n",
    "print('United States' in renewable_countries)\n",
    "print('European Union' in renewable_countries)"
   ]
  },
  {
   "cell_type": "code",
   "execution_count": 8,
   "metadata": {},
   "outputs": [],
   "source": [
    "usa_data = data['CountryCode'].str.contains('USA')"
   ]
  },
  {
   "cell_type": "code",
   "execution_count": 9,
   "metadata": {},
   "outputs": [],
   "source": [
    "stage_usa = data[usa_data & renewable_energy_mask]"
   ]
  },
  {
   "cell_type": "code",
   "execution_count": 10,
   "metadata": {},
   "outputs": [
    {
     "data": {
      "image/png": "[encoded data removed]",
      "text/plain": [
       "<Figure size 432x288 with 1 Axes>"
      ]
     },
     "metadata": {
      "needs_background": "light"
     },
     "output_type": "display_data"
    }
   ],
   "source": [
    "years = stage_usa['Year'].values\n",
    "kWh = stage_usa['Value'].values\n",
    "plt.xlabel('Year')\n",
    "plt.ylabel('kWh')\n",
    "plt.title('U.S. Electricity production from renewable sources,\\n excluding hydroelectric')\n",
    "plt.bar(years, kWh)\n",
    "plt.show()"
   ]
  },
  {
   "cell_type": "markdown",
   "metadata": {},
   "source": [
    "## Making some comparisons"
   ]
  },
  {
   "cell_type": "code",
   "execution_count": 17,
   "metadata": {},
   "outputs": [],
   "source": [
    "renewable_percentage_mask = data['IndicatorName'].str.contains('Electricity production from renewable sources')\n"
   ]
  },
  {
   "cell_type": "code",
   "execution_count": 18,
   "metadata": {},
   "outputs": [],
   "source": [
    "stage1 = data[usa_data & renewable_percentage_mask]"
   ]
  },
  {
   "cell_type": "code",
   "execution_count": 19,
   "metadata": {},
   "outputs": [
    {
     "name": "stdout",
     "output_type": "stream",
     "text": [
      "Min Year:  1960 Max Year:  2013\n"
     ]
    }
   ],
   "source": [
    "print(\"Min Year: \", stage1['Year'].min(), \"Max Year: \", stage1['Year'].max())"
   ]
  }
 ],
 "metadata": {
  "interpreter": {
   "hash": "d2282c6f5ddacff1393d8f6dc7eeeeb368bd6574d38c8c0740fe67e458487eeb"
  },
  "kernelspec": {
   "display_name": "Python 3.9.6 64-bit ('py3EdxDS': venv)",
   "language": "python",
   "name": "python3"
  },
  "language_info": {
   "codemirror_mode": {
    "name": "ipython",
    "version": 3
   },
   "file_extension": ".py",
   "mimetype": "text/x-python",
   "name": "python",
   "nbconvert_exporter": "python",
   "pygments_lexer": "ipython3",
   "version": "3.9.6"
  },
  "orig_nbformat": 4
 },
 "nbformat": 4,
 "nbformat_minor": 2
}
